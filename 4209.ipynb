{
 "cells": [
  {
   "cell_type": "code",
   "execution_count": 5,
   "id": "519fcfc1",
   "metadata": {},
   "outputs": [
    {
     "name": "stdout",
     "output_type": "stream",
     "text": [
      "\n",
      " the given training data set \n",
      "\n",
      "     Sky AirTemp Humidity    Wind Water Forecast Enjoy Sport\n",
      "0  Sunny    Warm   Normal  Strong  Warm     Same         yes\n",
      "1  Sunny    Warm     High  Strong  Warm     Same         yes\n",
      "2  Rainy    Cold     High  Strong  Warm   Change          no\n",
      "3  Sunny    Warm     High  Strong  Cool   Change         yes\n",
      "\n",
      " the initial value of hypothesis:\n",
      "['0', '0', '0', '0', '0', '0']\n",
      "\n",
      " FIND-S :finding a maximally specific hypothesis\n",
      "\n",
      "for training instance no:0 the hypothesis is  ['Sunny', 'Warm', 'Normal', 'Strong', 'Warm', 'Same']\n",
      "for training instance no:1 the hypothesis is  ['Sunny', 'Warm', '?', 'Strong', 'Warm', 'Same']\n",
      "for training instance no:2 the hypothesis is  ['Sunny', 'Warm', '?', 'Strong', 'Warm', 'Same']\n",
      "for training instance no:3 the hypothesis is  ['Sunny', 'Warm', '?', 'Strong', '?', '?']\n",
      "\n",
      " maximally specific hypothesis for a given training examples:\n",
      "\n",
      "['Sunny', 'Warm', '?', 'Strong', '?', '?']\n"
     ]
    }
   ],
   "source": [
    "import numpy as np\n",
    "import pandas as pd\n",
    "import csv\n",
    "num_attributes=6\n",
    "print(\"\\n the given training data set \\n\")\n",
    "df=pd.read_csv('weather.csv')\n",
    "print(df)\n",
    "print(\"\\n the initial value of hypothesis:\")\n",
    "hypothesis=['0']*num_attributes\n",
    "print(hypothesis)\n",
    "for j in range(0,num_attributes):\n",
    "    hypothesis[j]=df.iloc[0][j]\n",
    "print(\"\\n FIND-S :finding a maximally specific hypothesis\\n\")\n",
    "for i in range(0,4):\n",
    "    if df.iloc[i][num_attributes]=='yes':\n",
    "        for j in range(0,num_attributes):\n",
    "            if df.iloc[i][j]!=hypothesis[j]:\n",
    "                hypothesis[j]='?'\n",
    "            else:\n",
    "                hypothesis[j]=df.iloc[i][j]\n",
    "    print(\"for training instance no:{0} the hypothesis is \".format(i),hypothesis)\n",
    "print(\"\\n maximally specific hypothesis for a given training examples:\\n\")\n",
    "print(hypothesis)"
   ]
  },
  {
   "cell_type": "code",
   "execution_count": null,
   "id": "bf342150",
   "metadata": {},
   "outputs": [],
   "source": []
  },
  {
   "cell_type": "code",
   "execution_count": null,
   "id": "cb8b706e",
   "metadata": {},
   "outputs": [],
   "source": []
  },
  {
   "cell_type": "code",
   "execution_count": null,
   "id": "bf57a7ae",
   "metadata": {},
   "outputs": [],
   "source": []
  },
  {
   "cell_type": "code",
   "execution_count": null,
   "id": "c70cc215",
   "metadata": {},
   "outputs": [],
   "source": []
  }
 ],
 "metadata": {
  "kernelspec": {
   "display_name": "Python 3 (ipykernel)",
   "language": "python",
   "name": "python3"
  },
  "language_info": {
   "codemirror_mode": {
    "name": "ipython",
    "version": 3
   },
   "file_extension": ".py",
   "mimetype": "text/x-python",
   "name": "python",
   "nbconvert_exporter": "python",
   "pygments_lexer": "ipython3",
   "version": "3.9.7"
  }
 },
 "nbformat": 4,
 "nbformat_minor": 5
}
